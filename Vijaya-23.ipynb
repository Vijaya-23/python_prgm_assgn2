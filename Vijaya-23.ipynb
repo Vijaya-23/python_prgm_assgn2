{
 "cells": [
  {
   "cell_type": "markdown",
   "metadata": {},
   "source": [
    "# Assignment No : 2"
   ]
  },
  {
   "cell_type": "code",
   "execution_count": 4,
   "metadata": {},
   "outputs": [
    {
     "name": "stdout",
     "output_type": "stream",
     "text": [
      "Enter the value in kilometers: 5.5\n",
      "The entered value in Miles:  3.4175405\n"
     ]
    }
   ],
   "source": [
    "#1. Program for converting kilometers to miles\n",
    "\n",
    "# Taking kilometers input from the user\n",
    "\n",
    "km = float(input(\"Enter the value in kilometers: \"))\n",
    "\n",
    "# 1 Kilometre = 0.621371 Mile\n",
    "conersion_fact = 0.621371\n",
    "\n",
    "# Converting km to mi.\n",
    "mi = km * conersion_fact\n",
    "\n",
    "print(\"The entered value in Miles: \", mi)"
   ]
  },
  {
   "cell_type": "code",
   "execution_count": 7,
   "metadata": {},
   "outputs": [
    {
     "name": "stdout",
     "output_type": "stream",
     "text": [
      "Please Enter the Temperature in Celsius = 90\n",
      "90.00 Celsius Temperature = 194.00 Fahrenheit\n"
     ]
    }
   ],
   "source": [
    "#2.a Python program to convert Celsius to Fahrenheit\n",
    "\n",
    "celsius = float(input(\"Please Enter the Temperature in Celsius = \"))\n",
    "\n",
    "fahrenheit = (1.8 * celsius) + 32\n",
    "\n",
    "\n",
    "print(\"%.2f Celsius Temperature = %.2f Fahrenheit\" %(celsius, fahrenheit))"
   ]
  },
  {
   "cell_type": "code",
   "execution_count": 8,
   "metadata": {},
   "outputs": [
    {
     "name": "stdout",
     "output_type": "stream",
     "text": [
      "Enter year: 1985\n",
      "Enter month: 11\n",
      "   November 1985\n",
      "Mo Tu We Th Fr Sa Su\n",
      "             1  2  3\n",
      " 4  5  6  7  8  9 10\n",
      "11 12 13 14 15 16 17\n",
      "18 19 20 21 22 23 24\n",
      "25 26 27 28 29 30\n",
      "\n"
     ]
    }
   ],
   "source": [
    "#3. Python program to display calendar\n",
    "import calendar  \n",
    "# Enter the month and year  \n",
    "yy = int(input(\"Enter year: \"))  \n",
    "mm = int(input(\"Enter month: \"))  \n",
    "  \n",
    "# display the calendar  \n",
    "print(calendar.month(yy,mm))"
   ]
  },
  {
   "cell_type": "code",
   "execution_count": 15,
   "metadata": {},
   "outputs": [],
   "source": [
    "#4. Python program to solve quadratic equation\n",
    "def equationroots( a, b, c): \n",
    "  \n",
    "    # calculating discriminant using formula\n",
    "    dis = b * b - 4 * a * c \n",
    "    sqrt_val = math.sqrt(abs(dis)) \n",
    "      \n",
    "    # checking condition for discriminant\n",
    "    if dis > 0: \n",
    "        print(\" real and different roots \") \n",
    "        print((-b + sqrt_val)/(2 * a)) \n",
    "        print((-b - sqrt_val)/(2 * a)) \n",
    "      \n",
    "    elif dis == 0: \n",
    "        print(\" real and same roots\") \n",
    "        print(-b / (2 * a)) \n",
    "      \n",
    "    # when discriminant is less than 0\n",
    "    else:\n",
    "        print(\"Complex Roots\") \n",
    "        print(- b / (2 * a), \" + i\", sqrt_val) \n",
    "        print(- b / (2 * a), \" - i\", sqrt_val) "
   ]
  },
  {
   "cell_type": "code",
   "execution_count": 20,
   "metadata": {},
   "outputs": [
    {
     "name": "stdout",
     "output_type": "stream",
     "text": [
      "Complex Roots\n",
      "-0.5  + i 1.7320508075688772\n",
      "-0.5  - i 1.7320508075688772\n"
     ]
    }
   ],
   "source": [
    "equationroots(1,1,1)"
   ]
  },
  {
   "cell_type": "code",
   "execution_count": 21,
   "metadata": {},
   "outputs": [
    {
     "name": "stdout",
     "output_type": "stream",
     "text": [
      "Enter the first number: 5\n",
      "Enter the second number: 4\n",
      "Swapped values of x is 4.0 & y is 5.0\n"
     ]
    }
   ],
   "source": [
    "#5.Python program to swap two variables without temp variable\n",
    " #taking the input from the user\n",
    "a = float(input(\"Enter the first number: \"))\n",
    "b = float(input(\"Enter the second number: \"))\n",
    "\n",
    "#swapping \n",
    "a = a + b\n",
    "b = a - b\n",
    "a = a - b\n",
    "\n",
    "print(\"Swapped values of x is %.1f & y is %.1f\" %(a,b))"
   ]
  },
  {
   "cell_type": "code",
   "execution_count": null,
   "metadata": {},
   "outputs": [],
   "source": []
  }
 ],
 "metadata": {
  "kernelspec": {
   "display_name": "Python 3",
   "language": "python",
   "name": "python3"
  },
  "language_info": {
   "codemirror_mode": {
    "name": "ipython",
    "version": 3
   },
   "file_extension": ".py",
   "mimetype": "text/x-python",
   "name": "python",
   "nbconvert_exporter": "python",
   "pygments_lexer": "ipython3",
   "version": "3.8.5"
  }
 },
 "nbformat": 4,
 "nbformat_minor": 4
}
